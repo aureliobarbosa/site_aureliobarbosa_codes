{
 "cells": [
  {
   "cell_type": "markdown",
   "metadata": {},
   "source": [
    "## These Notes were obtained from Tirthajyoti Sarkar [Notes on Statistics and Math with Python](https://github.com/tirthajyoti/Stats-Maths-with-Python/blob/master/Computing_pi_throwing_dart.ipynb)"
   ]
  },
  {
   "cell_type": "code",
   "execution_count": 1,
   "metadata": {},
   "outputs": [],
   "source": [
    "from math import pi,sqrt\n",
    "import random\n",
    "import matplotlib.pyplot as plt\n",
    "import numpy as np"
   ]
  },
  {
   "cell_type": "markdown",
   "metadata": {},
   "source": [
    "## The number _pi_ ($\\pi$)\n",
    "The number $\\pi$ is a mathematical constant. Originally defined as the ratio of a circle's circumference to its diameter, it now has various equivalent definitions and appears in many formulas in all areas of mathematics and physics. It is approximately equal to 3.14159. It has been represented by the Greek letter __\"$\\pi$\"__ since the mid-18th century, though it is also sometimes spelled out as \"pi\". It is also called Archimedes' constant.\n",
    "\n",
    "Being an irrational number, $\\pi$ cannot be expressed as a common fraction (equivalently, its decimal representation never ends and never settles into a permanently repeating pattern). "
   ]
  },
  {
   "cell_type": "markdown",
   "metadata": {},
   "source": [
    "### What is the value of $\\pi$"
   ]
  },
  {
   "cell_type": "code",
   "execution_count": 2,
   "metadata": {},
   "outputs": [
    {
     "name": "stdout",
     "output_type": "stream",
     "text": [
      "Value of pi:  3.141592653589793\n"
     ]
    }
   ],
   "source": [
    "print(\"Value of pi: \",pi)"
   ]
  },
  {
   "cell_type": "markdown",
   "metadata": {},
   "source": [
    "## What is the logic behind computing pi by throwing dart randomly?\n",
    "Imagine a square dartboard.\n",
    "\n",
    "Then, the dartboard with a circle drawn inside it touching all its sides.\n",
    "\n",
    "And then, you throw darts at it. Randomly. That means some fall inside the circle, some outside. But assume that no dart falls outside the board.\n",
    "\n",
    "![boards](https://raw.githubusercontent.com/tirthajyoti/Stats-Maths-with-Python/master/images/boards.png)\n",
    "\n",
    "At the end of your dart throwing session, you count the fraction of darts that fell inside the circle of the total number of darts thrown. Multiply that number by 4.\n",
    "\n",
    "The resulting number should be pi. Or, a close approximation if you had thrown a lot of darts.\n",
    "\n",
    "The idea is extremely simple. If you throw a large number of darts, then the **probability of a dart falling inside the circle is just the ratio of the area of the circle to that of the area of the square board**. With the help of basic mathematics, you can show that this ratio turns out to be pi/4. So, to get pi, you just multiply that number by 4.\n",
    "\n",
    "The key here is to simulate the throwing of a lot of darts so as to make the fraction equal to the probability, an assertion valid only in the limit of a large number of trials of this random event. This comes from the [law of large number](https://en.wikipedia.org/wiki/Law_of_large_numbers) or the [frequentist definition of probability](https://en.wikipedia.org/wiki/Frequentist_probability).\n",
    "\n",
    "See also the concept of [Buffon's Needle](https://en.wikipedia.org/wiki/Buffon%27s_needle_problem)"
   ]
  },
  {
   "cell_type": "markdown",
   "metadata": {},
   "source": [
    "### Center point and the side of the square"
   ]
  },
  {
   "cell_type": "code",
   "execution_count": 3,
   "metadata": {},
   "outputs": [],
   "source": [
    "# Center point\n",
    "x,y = 0,0\n",
    "# Side of the square\n",
    "a = 2"
   ]
  },
  {
   "cell_type": "markdown",
   "metadata": {},
   "source": [
    "### Function to simulate a random throw of a dart aiming at the square"
   ]
  },
  {
   "cell_type": "code",
   "execution_count": 4,
   "metadata": {},
   "outputs": [],
   "source": [
    "def throw_dart():\n",
    "    \"\"\"\n",
    "    Simulates the randon throw of a dirt. It can land anywhere in the square (uniformly randomly)\n",
    "    \"\"\"\n",
    "    # Random final landing position of the dirt between -a/2 and +a/2 around the center point\n",
    "    position_x = x+a/2*(-1+2*random.random())\n",
    "    position_y = y+a/2*(-1+2*random.random())\n",
    "    \n",
    "    return (position_x,position_y)"
   ]
  },
  {
   "cell_type": "code",
   "execution_count": 6,
   "metadata": {},
   "outputs": [
    {
     "data": {
      "text/plain": [
       "(0.7644027981492474, -0.56192744653297)"
      ]
     },
     "execution_count": 6,
     "metadata": {},
     "output_type": "execute_result"
    }
   ],
   "source": [
    "throw_dart()"
   ]
  },
  {
   "cell_type": "markdown",
   "metadata": {},
   "source": [
    "### Function to determine if the dart landed inside the circle"
   ]
  },
  {
   "cell_type": "code",
   "execution_count": 7,
   "metadata": {},
   "outputs": [],
   "source": [
    "def is_within_circle(x,y):\n",
    "    \"\"\"\n",
    "    Given the landing coordinate of a dirt, determines if it fell inside the circle\n",
    "    \"\"\"\n",
    "    # Side of the square\n",
    "    a = 2\n",
    "    \n",
    "    distance_from_center = sqrt(x**2+y**2)\n",
    "    \n",
    "    if distance_from_center < a/2:\n",
    "        return True\n",
    "    else:\n",
    "        return False"
   ]
  },
  {
   "cell_type": "code",
   "execution_count": 8,
   "metadata": {},
   "outputs": [
    {
     "data": {
      "text/plain": [
       "False"
      ]
     },
     "execution_count": 8,
     "metadata": {},
     "output_type": "execute_result"
    }
   ],
   "source": [
    "is_within_circle(1.9,1.9)"
   ]
  },
  {
   "cell_type": "code",
   "execution_count": 9,
   "metadata": {},
   "outputs": [
    {
     "data": {
      "text/plain": [
       "False"
      ]
     },
     "execution_count": 9,
     "metadata": {},
     "output_type": "execute_result"
    }
   ],
   "source": [
    "is_within_circle(1.2,1.9)"
   ]
  },
  {
   "cell_type": "code",
   "execution_count": 10,
   "metadata": {},
   "outputs": [
    {
     "data": {
      "text/plain": [
       "True"
      ]
     },
     "execution_count": 10,
     "metadata": {},
     "output_type": "execute_result"
    }
   ],
   "source": [
    "is_within_circle(0.4,-0.74)"
   ]
  },
  {
   "cell_type": "code",
   "execution_count": 11,
   "metadata": {},
   "outputs": [
    {
     "name": "stdout",
     "output_type": "stream",
     "text": [
      "0.8694702684082585 -0.7449316481215551\n",
      "This one did not land inside the circle!\n"
     ]
    }
   ],
   "source": [
    "r1,r2=throw_dart()\n",
    "print(r1,r2)\n",
    "if is_within_circle(r1,r2):\n",
    "    print(\"This one landed inside the circle!\")\n",
    "else:\n",
    "    print(\"This one did not land inside the circle!\")"
   ]
  },
  {
   "cell_type": "markdown",
   "metadata": {},
   "source": [
    "### Now throw a few darts!"
   ]
  },
  {
   "cell_type": "code",
   "execution_count": 12,
   "metadata": {},
   "outputs": [],
   "source": [
    "n_throws = 10"
   ]
  },
  {
   "cell_type": "code",
   "execution_count": 13,
   "metadata": {},
   "outputs": [],
   "source": [
    "count_inside_circle=0"
   ]
  },
  {
   "cell_type": "code",
   "execution_count": 14,
   "metadata": {},
   "outputs": [],
   "source": [
    "for i in range(n_throws):\n",
    "    r1,r2=throw_dart()\n",
    "    if is_within_circle(r1,r2):\n",
    "        count_inside_circle+=1"
   ]
  },
  {
   "cell_type": "markdown",
   "metadata": {},
   "source": [
    "### Compute the ratio of `count_inside_circle` and `n_throws`"
   ]
  },
  {
   "cell_type": "code",
   "execution_count": 15,
   "metadata": {},
   "outputs": [],
   "source": [
    "ratio = count_inside_circle/n_throws"
   ]
  },
  {
   "cell_type": "markdown",
   "metadata": {},
   "source": [
    "### Is it approximately equal to $\\pi$?"
   ]
  },
  {
   "cell_type": "code",
   "execution_count": 16,
   "metadata": {},
   "outputs": [
    {
     "name": "stdout",
     "output_type": "stream",
     "text": [
      "3.6\n"
     ]
    }
   ],
   "source": [
    "print(4*ratio)"
   ]
  },
  {
   "cell_type": "markdown",
   "metadata": {},
   "source": [
    "### Not exactly. Let's try with a lot more darts!"
   ]
  },
  {
   "cell_type": "code",
   "execution_count": 34,
   "metadata": {},
   "outputs": [],
   "source": [
    "n_throws = 100_000\n",
    "count_inside_circle=0"
   ]
  },
  {
   "cell_type": "code",
   "execution_count": 35,
   "metadata": {},
   "outputs": [],
   "source": [
    "for i in range(n_throws):\n",
    "    r1,r2=throw_dart()\n",
    "    if is_within_circle(r1,r2):\n",
    "        count_inside_circle+=1"
   ]
  },
  {
   "cell_type": "code",
   "execution_count": 36,
   "metadata": {},
   "outputs": [],
   "source": [
    "ratio = count_inside_circle/n_throws"
   ]
  },
  {
   "cell_type": "code",
   "execution_count": 37,
   "metadata": {},
   "outputs": [
    {
     "name": "stdout",
     "output_type": "stream",
     "text": [
      "3.147\n"
     ]
    }
   ],
   "source": [
    "print(4*ratio)"
   ]
  },
  {
   "cell_type": "markdown",
   "metadata": {},
   "source": [
    "### Now we are approaching $\\pi$ :-). Let's functionalize this process and run a number of times"
   ]
  },
  {
   "cell_type": "code",
   "execution_count": 38,
   "metadata": {},
   "outputs": [],
   "source": [
    "def compute_pi_throwing_dart(n_throws):\n",
    "    \"\"\"\n",
    "    Computes pi by throwing a bunch of darts at the square\n",
    "    \"\"\"\n",
    "    n_throws = n_throws\n",
    "    count_inside_circle=0\n",
    "    for i in range(n_throws):\n",
    "        r1,r2=throw_dart()\n",
    "        if is_within_circle(r1,r2):\n",
    "            count_inside_circle+=1\n",
    "            \n",
    "    result = 4*(count_inside_circle/n_throws)\n",
    "    \n",
    "    return result"
   ]
  },
  {
   "cell_type": "markdown",
   "metadata": {},
   "source": [
    "### Now let us run this experiment a few times and see what happens."
   ]
  },
  {
   "cell_type": "code",
   "execution_count": 39,
   "metadata": {},
   "outputs": [
    {
     "name": "stdout",
     "output_type": "stream",
     "text": [
      "Computed value of pi by throwing 3 darts is: 4.0\n",
      "Computed value of pi by throwing 10 darts is: 3.2\n",
      "Computed value of pi by throwing 31 darts is: 2.967741935483871\n",
      "Computed value of pi by throwing 100 darts is: 3.36\n",
      "Computed value of pi by throwing 316 darts is: 3.1265822784810124\n",
      "Computed value of pi by throwing 1000 darts is: 3.16\n",
      "Computed value of pi by throwing 3162 darts is: 3.1688804554079697\n",
      "Computed value of pi by throwing 10000 darts is: 3.1368\n",
      "Computed value of pi by throwing 31622 darts is: 3.1300992979571185\n",
      "Computed value of pi by throwing 100000 darts is: 3.13212\n",
      "Computed value of pi by throwing 316227 darts is: 3.141730465773005\n",
      "Computed value of pi by throwing 1000000 darts is: 3.142024\n",
      "Computed value of pi by throwing 3162277 darts is: 3.1426506912582295\n",
      "Computed value of pi by throwing 10000000 darts is: 3.141892\n"
     ]
    }
   ],
   "source": [
    "n_exp=[]\n",
    "pi_exp=[]\n",
    "n = [int(10**(0.5*i)) for i in range(1,15)]\n",
    "for i in n:\n",
    "    p = compute_pi_throwing_dart(i)\n",
    "    pi_exp.append(p)\n",
    "    n_exp.append(i)\n",
    "    print(\"Computed value of pi by throwing {} darts is: {}\".format(i,p))"
   ]
  },
  {
   "cell_type": "code",
   "execution_count": 40,
   "metadata": {},
   "outputs": [
    {
     "data": {
      "image/png": "[encoded data removed]",
      "text/plain": [
       "<Figure size 800x500 with 1 Axes>"
      ]
     },
     "metadata": {},
     "output_type": "display_data"
    }
   ],
   "source": [
    "plt.figure(figsize=(8,5))\n",
    "plt.title(\"Computing pi with \\nincreasing number of random throws\",fontsize=20)\n",
    "plt.semilogx(n_exp, pi_exp,c='k',marker='o',lw=3)\n",
    "plt.xticks(fontsize=14)\n",
    "plt.yticks(fontsize=14)\n",
    "plt.xlabel(\"Number of random throws\",fontsize=15)\n",
    "plt.ylabel(\"Computed value of pi\",fontsize=15)\n",
    "plt.hlines(y=3.14159,xmin=1,xmax=1e7,linestyle='--')\n",
    "plt.text(x=10,y=3.05,s=\"Value of pi\",fontsize=17)\n",
    "plt.grid(True)\n",
    "plt.show()"
   ]
  },
  {
   "cell_type": "markdown",
   "metadata": {},
   "source": [
    "### So, effectively we can average a few experiments and take that value"
   ]
  },
  {
   "cell_type": "code",
   "execution_count": 41,
   "metadata": {},
   "outputs": [
    {
     "name": "stdout",
     "output_type": "stream",
     "text": [
      "Experiment number 1 done. Computed value: 3.1418992\n",
      "Experiment number 2 done. Computed value: 3.1423512\n",
      "Experiment number 3 done. Computed value: 3.142012\n",
      "Experiment number 4 done. Computed value: 3.1428232\n",
      "Experiment number 5 done. Computed value: 3.1417272\n",
      "Experiment number 6 done. Computed value: 3.14228\n",
      "Experiment number 7 done. Computed value: 3.1423552\n",
      "Experiment number 8 done. Computed value: 3.14032\n",
      "Experiment number 9 done. Computed value: 3.1417496\n",
      "Experiment number 10 done. Computed value: 3.1420184\n",
      "Experiment number 11 done. Computed value: 3.1409712\n",
      "Experiment number 12 done. Computed value: 3.1397848\n",
      "Experiment number 13 done. Computed value: 3.1424096\n",
      "Experiment number 14 done. Computed value: 3.142296\n",
      "Experiment number 15 done. Computed value: 3.1419872\n",
      "Experiment number 16 done. Computed value: 3.1416248\n",
      "Experiment number 17 done. Computed value: 3.1427448\n",
      "Experiment number 18 done. Computed value: 3.1412624\n",
      "Experiment number 19 done. Computed value: 3.1414696\n",
      "Experiment number 20 done. Computed value: 3.1419824\n",
      "---------------------------------------------------------------------------\n",
      "Average value from 20 experiments: 3.1418\n"
     ]
    }
   ],
   "source": [
    "n = 5000000\n",
    "sum=0\n",
    "for i in range(20):\n",
    "    p=compute_pi_throwing_dart(n)\n",
    "    sum+=p\n",
    "    print(\"Experiment number {} done. Computed value: {}\".format(i+1,p))\n",
    "print(\"-\"*75)\n",
    "pi_computed = round(sum/20,4)\n",
    "print(\"Average value from 20 experiments:\",pi_computed)"
   ]
  },
  {
   "cell_type": "markdown",
   "metadata": {},
   "source": [
    "### Error percentage can be easily computed"
   ]
  },
  {
   "cell_type": "code",
   "execution_count": 32,
   "metadata": {},
   "outputs": [
    {
     "name": "stdout",
     "output_type": "stream",
     "text": [
      "Error percentage:  -0.0034169423615242416\n"
     ]
    }
   ],
   "source": [
    "error_pct = 100*(pi - pi_computed)/pi\n",
    "print(\"Error percentage: \", error_pct)"
   ]
  },
  {
   "cell_type": "code",
   "execution_count": null,
   "metadata": {},
   "outputs": [],
   "source": []
  }
 ],
 "metadata": {
  "kernelspec": {
   "display_name": "DataScience",
   "language": "python",
   "name": "datascience"
  },
  "language_info": {
   "codemirror_mode": {
    "name": "ipython",
    "version": 3
   },
   "file_extension": ".py",
   "mimetype": "text/x-python",
   "name": "python",
   "nbconvert_exporter": "python",
   "pygments_lexer": "ipython3",
   "version": "3.12.3"
  },
  "latex_envs": {
   "LaTeX_envs_menu_present": true,
   "autoclose": false,
   "autocomplete": true,
   "bibliofile": "biblio.bib",
   "cite_by": "apalike",
   "current_citInitial": 1,
   "eqLabelWithNumbers": true,
   "eqNumInitial": 1,
   "hotkeys": {
    "equation": "Ctrl-E",
    "itemize": "Ctrl-I"
   },
   "labels_anchors": false,
   "latex_user_defs": false,
   "report_style_numbering": false,
   "user_envs_cfg": false
  }
 },
 "nbformat": 4,
 "nbformat_minor": 4
}
